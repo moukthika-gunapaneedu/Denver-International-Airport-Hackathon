{
  "nbformat": 4,
  "nbformat_minor": 0,
  "metadata": {
    "colab": {
      "provenance": []
    },
    "kernelspec": {
      "name": "python3",
      "display_name": "Python 3"
    },
    "language_info": {
      "name": "python"
    }
  },
  "cells": [
    {
      "cell_type": "code",
      "execution_count": null,
      "metadata": {
        "colab": {
          "base_uri": "https://localhost:8080/"
        },
        "id": "sV_O-VBxf9aC",
        "outputId": "76e9af22-e08f-464f-dc71-2c45960fab8a",
        "collapsed": true
      },
      "outputs": [
        {
          "output_type": "stream",
          "name": "stdout",
          "text": [
            "Requirement already satisfied: dspy in /usr/local/lib/python3.10/dist-packages (2.5.29)\n",
            "Requirement already satisfied: backoff in /usr/local/lib/python3.10/dist-packages (from dspy) (2.2.1)\n",
            "Requirement already satisfied: datasets in /usr/local/lib/python3.10/dist-packages (from dspy) (3.1.0)\n",
            "Requirement already satisfied: diskcache in /usr/local/lib/python3.10/dist-packages (from dspy) (5.6.3)\n",
            "Requirement already satisfied: httpx in /usr/local/lib/python3.10/dist-packages (from dspy) (0.27.2)\n",
            "Requirement already satisfied: joblib~=1.3 in /usr/local/lib/python3.10/dist-packages (from dspy) (1.4.2)\n",
            "Requirement already satisfied: json-repair in /usr/local/lib/python3.10/dist-packages (from dspy) (0.30.1)\n",
            "Requirement already satisfied: litellm==1.51.0 in /usr/local/lib/python3.10/dist-packages (from dspy) (1.51.0)\n",
            "Requirement already satisfied: magicattr~=0.1.6 in /usr/local/lib/python3.10/dist-packages (from dspy) (0.1.6)\n",
            "Requirement already satisfied: openai in /usr/local/lib/python3.10/dist-packages (from dspy) (1.52.2)\n",
            "Requirement already satisfied: optuna in /usr/local/lib/python3.10/dist-packages (from dspy) (4.0.0)\n",
            "Requirement already satisfied: pandas in /usr/local/lib/python3.10/dist-packages (from dspy) (2.2.2)\n",
            "Requirement already satisfied: pydantic~=2.0 in /usr/local/lib/python3.10/dist-packages (from dspy) (2.9.2)\n",
            "Requirement already satisfied: regex in /usr/local/lib/python3.10/dist-packages (from dspy) (2024.9.11)\n",
            "Requirement already satisfied: requests in /usr/local/lib/python3.10/dist-packages (from dspy) (2.32.3)\n",
            "Requirement already satisfied: tenacity>=8.2.3 in /usr/local/lib/python3.10/dist-packages (from dspy) (9.0.0)\n",
            "Requirement already satisfied: tqdm in /usr/local/lib/python3.10/dist-packages (from dspy) (4.66.6)\n",
            "Requirement already satisfied: ujson in /usr/local/lib/python3.10/dist-packages (from dspy) (5.10.0)\n",
            "Requirement already satisfied: aiohttp in /usr/local/lib/python3.10/dist-packages (from litellm==1.51.0->dspy) (3.10.10)\n",
            "Requirement already satisfied: click in /usr/local/lib/python3.10/dist-packages (from litellm==1.51.0->dspy) (8.1.7)\n",
            "Requirement already satisfied: importlib-metadata>=6.8.0 in /usr/local/lib/python3.10/dist-packages (from litellm==1.51.0->dspy) (8.5.0)\n",
            "Requirement already satisfied: jinja2<4.0.0,>=3.1.2 in /usr/local/lib/python3.10/dist-packages (from litellm==1.51.0->dspy) (3.1.4)\n",
            "Requirement already satisfied: jsonschema<5.0.0,>=4.22.0 in /usr/local/lib/python3.10/dist-packages (from litellm==1.51.0->dspy) (4.23.0)\n",
            "Requirement already satisfied: python-dotenv>=0.2.0 in /usr/local/lib/python3.10/dist-packages (from litellm==1.51.0->dspy) (1.0.1)\n",
            "Requirement already satisfied: tiktoken>=0.7.0 in /usr/local/lib/python3.10/dist-packages (from litellm==1.51.0->dspy) (0.8.0)\n",
            "Requirement already satisfied: tokenizers in /usr/local/lib/python3.10/dist-packages (from litellm==1.51.0->dspy) (0.19.1)\n",
            "Requirement already satisfied: anyio<5,>=3.5.0 in /usr/local/lib/python3.10/dist-packages (from openai->dspy) (3.7.1)\n",
            "Requirement already satisfied: distro<2,>=1.7.0 in /usr/local/lib/python3.10/dist-packages (from openai->dspy) (1.9.0)\n",
            "Requirement already satisfied: jiter<1,>=0.4.0 in /usr/local/lib/python3.10/dist-packages (from openai->dspy) (0.6.1)\n",
            "Requirement already satisfied: sniffio in /usr/local/lib/python3.10/dist-packages (from openai->dspy) (1.3.1)\n",
            "Requirement already satisfied: typing-extensions<5,>=4.11 in /usr/local/lib/python3.10/dist-packages (from openai->dspy) (4.12.2)\n",
            "Requirement already satisfied: certifi in /usr/local/lib/python3.10/dist-packages (from httpx->dspy) (2024.8.30)\n",
            "Requirement already satisfied: httpcore==1.* in /usr/local/lib/python3.10/dist-packages (from httpx->dspy) (1.0.6)\n",
            "Requirement already satisfied: idna in /usr/local/lib/python3.10/dist-packages (from httpx->dspy) (3.10)\n",
            "Requirement already satisfied: h11<0.15,>=0.13 in /usr/local/lib/python3.10/dist-packages (from httpcore==1.*->httpx->dspy) (0.14.0)\n",
            "Requirement already satisfied: annotated-types>=0.6.0 in /usr/local/lib/python3.10/dist-packages (from pydantic~=2.0->dspy) (0.7.0)\n",
            "Requirement already satisfied: pydantic-core==2.23.4 in /usr/local/lib/python3.10/dist-packages (from pydantic~=2.0->dspy) (2.23.4)\n",
            "Requirement already satisfied: charset-normalizer<4,>=2 in /usr/local/lib/python3.10/dist-packages (from requests->dspy) (3.4.0)\n",
            "Requirement already satisfied: urllib3<3,>=1.21.1 in /usr/local/lib/python3.10/dist-packages (from requests->dspy) (2.2.3)\n",
            "Requirement already satisfied: filelock in /usr/local/lib/python3.10/dist-packages (from datasets->dspy) (3.16.1)\n",
            "Requirement already satisfied: numpy>=1.17 in /usr/local/lib/python3.10/dist-packages (from datasets->dspy) (1.26.4)\n",
            "Requirement already satisfied: pyarrow>=15.0.0 in /usr/local/lib/python3.10/dist-packages (from datasets->dspy) (17.0.0)\n",
            "Requirement already satisfied: dill<0.3.9,>=0.3.0 in /usr/local/lib/python3.10/dist-packages (from datasets->dspy) (0.3.8)\n",
            "Requirement already satisfied: xxhash in /usr/local/lib/python3.10/dist-packages (from datasets->dspy) (3.5.0)\n",
            "Requirement already satisfied: multiprocess<0.70.17 in /usr/local/lib/python3.10/dist-packages (from datasets->dspy) (0.70.16)\n",
            "Requirement already satisfied: fsspec<=2024.9.0,>=2023.1.0 in /usr/local/lib/python3.10/dist-packages (from fsspec[http]<=2024.9.0,>=2023.1.0->datasets->dspy) (2024.9.0)\n",
            "Requirement already satisfied: huggingface-hub>=0.23.0 in /usr/local/lib/python3.10/dist-packages (from datasets->dspy) (0.24.7)\n",
            "Requirement already satisfied: packaging in /usr/local/lib/python3.10/dist-packages (from datasets->dspy) (24.1)\n",
            "Requirement already satisfied: pyyaml>=5.1 in /usr/local/lib/python3.10/dist-packages (from datasets->dspy) (6.0.2)\n",
            "Requirement already satisfied: alembic>=1.5.0 in /usr/local/lib/python3.10/dist-packages (from optuna->dspy) (1.14.0)\n",
            "Requirement already satisfied: colorlog in /usr/local/lib/python3.10/dist-packages (from optuna->dspy) (6.9.0)\n",
            "Requirement already satisfied: sqlalchemy>=1.3.0 in /usr/local/lib/python3.10/dist-packages (from optuna->dspy) (2.0.36)\n",
            "Requirement already satisfied: python-dateutil>=2.8.2 in /usr/local/lib/python3.10/dist-packages (from pandas->dspy) (2.8.2)\n",
            "Requirement already satisfied: pytz>=2020.1 in /usr/local/lib/python3.10/dist-packages (from pandas->dspy) (2024.2)\n",
            "Requirement already satisfied: tzdata>=2022.7 in /usr/local/lib/python3.10/dist-packages (from pandas->dspy) (2024.2)\n",
            "Requirement already satisfied: Mako in /usr/local/lib/python3.10/dist-packages (from alembic>=1.5.0->optuna->dspy) (1.3.6)\n",
            "Requirement already satisfied: exceptiongroup in /usr/local/lib/python3.10/dist-packages (from anyio<5,>=3.5.0->openai->dspy) (1.2.2)\n",
            "Requirement already satisfied: aiohappyeyeballs>=2.3.0 in /usr/local/lib/python3.10/dist-packages (from aiohttp->litellm==1.51.0->dspy) (2.4.3)\n",
            "Requirement already satisfied: aiosignal>=1.1.2 in /usr/local/lib/python3.10/dist-packages (from aiohttp->litellm==1.51.0->dspy) (1.3.1)\n",
            "Requirement already satisfied: attrs>=17.3.0 in /usr/local/lib/python3.10/dist-packages (from aiohttp->litellm==1.51.0->dspy) (24.2.0)\n",
            "Requirement already satisfied: frozenlist>=1.1.1 in /usr/local/lib/python3.10/dist-packages (from aiohttp->litellm==1.51.0->dspy) (1.5.0)\n",
            "Requirement already satisfied: multidict<7.0,>=4.5 in /usr/local/lib/python3.10/dist-packages (from aiohttp->litellm==1.51.0->dspy) (6.1.0)\n",
            "Requirement already satisfied: yarl<2.0,>=1.12.0 in /usr/local/lib/python3.10/dist-packages (from aiohttp->litellm==1.51.0->dspy) (1.17.0)\n",
            "Requirement already satisfied: async-timeout<5.0,>=4.0 in /usr/local/lib/python3.10/dist-packages (from aiohttp->litellm==1.51.0->dspy) (4.0.3)\n",
            "Requirement already satisfied: zipp>=3.20 in /usr/local/lib/python3.10/dist-packages (from importlib-metadata>=6.8.0->litellm==1.51.0->dspy) (3.20.2)\n",
            "Requirement already satisfied: MarkupSafe>=2.0 in /usr/local/lib/python3.10/dist-packages (from jinja2<4.0.0,>=3.1.2->litellm==1.51.0->dspy) (3.0.2)\n",
            "Requirement already satisfied: jsonschema-specifications>=2023.03.6 in /usr/local/lib/python3.10/dist-packages (from jsonschema<5.0.0,>=4.22.0->litellm==1.51.0->dspy) (2024.10.1)\n",
            "Requirement already satisfied: referencing>=0.28.4 in /usr/local/lib/python3.10/dist-packages (from jsonschema<5.0.0,>=4.22.0->litellm==1.51.0->dspy) (0.35.1)\n",
            "Requirement already satisfied: rpds-py>=0.7.1 in /usr/local/lib/python3.10/dist-packages (from jsonschema<5.0.0,>=4.22.0->litellm==1.51.0->dspy) (0.20.0)\n",
            "Requirement already satisfied: six>=1.5 in /usr/local/lib/python3.10/dist-packages (from python-dateutil>=2.8.2->pandas->dspy) (1.16.0)\n",
            "Requirement already satisfied: greenlet!=0.4.17 in /usr/local/lib/python3.10/dist-packages (from sqlalchemy>=1.3.0->optuna->dspy) (3.1.1)\n",
            "Requirement already satisfied: propcache>=0.2.0 in /usr/local/lib/python3.10/dist-packages (from yarl<2.0,>=1.12.0->aiohttp->litellm==1.51.0->dspy) (0.2.0)\n"
          ]
        }
      ],
      "source": [
        "!pip install dspy"
      ]
    },
    {
      "cell_type": "code",
      "source": [
        "import pandas as pd\n",
        "import openai\n",
        "import dspy"
      ],
      "metadata": {
        "id": "fLCmsuApf_tN"
      },
      "execution_count": null,
      "outputs": []
    },
    {
      "cell_type": "code",
      "source": [
        "from google.colab import userdata\n",
        "OPENAI_KEY = userdata.get('GPT_KEY')\n",
        "openai.api_key = OPENAI_KEY"
      ],
      "metadata": {
        "id": "ZpE8YIaxgaUw"
      },
      "execution_count": null,
      "outputs": []
    },
    {
      "cell_type": "code",
      "source": [
        "openai_model = dspy.OpenAI(model='gpt-3.5-turbo',api_key = OPENAI_KEY)\n",
        "dspy.settings.configure(lm=openai_model)"
      ],
      "metadata": {
        "id": "7yeox8dd0DnV"
      },
      "execution_count": null,
      "outputs": []
    },
    {
      "cell_type": "code",
      "source": [
        "data = pd.read_csv(\"/content/ADO_FeatureUserStorylist_V2.xlsx - Sheet1.csv\", header = None)\n",
        "data.head()"
      ],
      "metadata": {
        "id": "iWs6K_FUggXS",
        "collapsed": true
      },
      "execution_count": null,
      "outputs": []
    },
    {
      "cell_type": "code",
      "source": [
        "data.columns = data.iloc[1]\n",
        "data = data.drop([0, 1]).reset_index(drop=True)\n",
        "data.head()"
      ],
      "metadata": {
        "id": "UCDVikvjgxSQ",
        "collapsed": true
      },
      "execution_count": null,
      "outputs": []
    },
    {
      "cell_type": "code",
      "source": [
        "example_data = {\n",
        "    \"Work Item Type\": [\"Feature\", \"User Story\"],\n",
        "    \"Created Date\": [\"2/2/2023\", \"1/4/2024\"],\n",
        "    \"Feature Title\": [\"Compensation rates are not populating in Concessions reports.\", None],\n",
        "    \"User Story Title\": [None, \"Finance Source - Develop to pull compensation rates\"],\n",
        "    \"Assigned To\": [\"Anthony\", \"Anthony\"],\n",
        "    \"State\": [\"Active\", \"On Hold\"],\n",
        "    \"AskIT Enhancement Number\": [\"ENHC0014455\", \"ENHC0014455\"],\n",
        "    \"Customer Name\": [\"Branden Flowers\", \"Poppy\"],\n",
        "    \"Iteration Path\": [None, None],\n",
        "    \"Area Path\": [None, None],\n",
        "    \"Level of Effort\": [\"Medium\", \"Low\"],\n",
        "    \"Story Points (0 - 99)\": [40, 20],\n",
        "    \"Value (0 - 99)\": [None, None],\n",
        "    \"Priority (0 - 4)\": [2, 1],\n",
        "    \"Target Date\": [None, None],\n",
        "    \"Business Value (0 - 999)\": [450, 150]\n",
        "}\n",
        "\n",
        "# Convert the dictionary into a DataFrame\n",
        "example_df = pd.DataFrame(example_data)\n",
        "\n",
        "example_df.head()"
      ],
      "metadata": {
        "id": "iSt1IsRenhA6"
      },
      "execution_count": null,
      "outputs": []
    },
    {
      "cell_type": "code",
      "source": [
        "class StoryPointsAgent(dspy.Signature):\n",
        "    example_data = dspy.InputField(desc=\"Example input data\")\n",
        "\n",
        "    f\"\"\"Analyze 'State', 'Feature Title', and 'User Story Title' to assign Story Points based on task complexity.\n",
        "\n",
        "    Examples: { example_data }\n",
        "\n",
        "    From the example learn how to assign story points.\n",
        "    A relative scale for story points to estimate task complexity. We'll enforce the range and handle edge cases where tasks might exceed the expected limits.\n",
        "    \"\"\"\n",
        "    dataset = dspy.InputField()\n",
        "    context = dspy.InputField(desc=\"Context: Story points reflect task complexity and estimated completion time.\")\n",
        "    result = dspy.OutputField(desc=\"Output value: {<Between 0-99>}\")\n",
        "\n",
        "class EffortAgent(dspy.Signature):\n",
        "    example_data = dspy.InputField(desc=\"Example input data\")\n",
        "\n",
        "    f\"\"\"Analyze 'State', 'Feature Title', and 'User Story Title' to assign Level of Effort.\n",
        "\n",
        "    Examples: { example_data }\n",
        "\n",
        "    From the example learn how to assign Level of Effort.\n",
        "    Constraints will depend on the complexity of the task but should fall within a reasonable range assign Low, Medium or High.\n",
        "    Features with high complexity needs higher efforts, while smaller tasks (like bug fixes or simple enhancements) would get lower values.\n",
        "    \"\"\"\n",
        "    dataset = dspy.InputField()\n",
        "    context = dspy.InputField(desc=\"Context: Level of Effort reflects the estimated amount of work required.\")\n",
        "    result = dspy.OutputField(desc=\"Output value: {<Low,Medium or High>}\")\n",
        "\n",
        "class PriorityAgent(dspy.Signature):\n",
        "    example_data = dspy.InputField(desc=\"Example input data\")\n",
        "\n",
        "    f\"\"\"Analyze 'State', 'Feature Title', and 'User Story Title' to assign task Priority.\n",
        "\n",
        "    Examples: { example_data }\n",
        "\n",
        "    From the example learn how to assign task Priority.\n",
        "    3-4 for critical tasks or active work.\n",
        "    1-2 for new work that isn't immediately blocking.\n",
        "    0-1 for tasks that are On Hold or Closed.\n",
        "    \"\"\"\n",
        "    dataset = dspy.InputField()\n",
        "    context = dspy.InputField(desc=\"Context: Priority is based on task urgency and impact.\")\n",
        "    result = dspy.OutputField(desc=\"Output value: {<Between 0-4>}\")\n",
        "\n",
        "class BusinessValueAgent(dspy.Signature):\n",
        "    example_data = dspy.InputField(desc=\"Example input data\")\n",
        "\n",
        "    f\"\"\"Analyze 'State', 'Feature Title', and 'User Story Title' to assign Business Value.\n",
        "\n",
        "    Examples: { example_data }\n",
        "\n",
        "    From the example learn how to assign Business Value.\n",
        "    High values for tasks that directly impact customer experience, revenue, or core product features.\n",
        "    Medium values for important but less critical tasks.\n",
        "    Low values for non-essential or nice-to-have tasks.\n",
        "\n",
        "    \"\"\"\n",
        "    dataset = dspy.InputField()\n",
        "    context = dspy.InputField(desc=\"Context: Business Value reflects the strategic importance of the task.\")\n",
        "    result = dspy.OutputField(desc=\"Output value: {<Between 0-999>}\")\n",
        "\n",
        "class CombineAgent(dspy.Signature):\n",
        "    \"\"\"Combine results from each agent to create a unified filled record.\"\"\"\n",
        "    story_points_result = dspy.InputField(desc=\"Output from Story Points agent\")\n",
        "    effort_result = dspy.InputField(desc=\"Output from Level of Effort agent\")\n",
        "    priority_result = dspy.InputField(desc=\"Output from Priority agent\")\n",
        "    business_value_result = dspy.InputField(desc=\"Output from Business Value agent\")\n",
        "    final_result = dspy.OutputField(desc=\"output the format like story_points: {<only value>}, effort: {<only value>}, Priority: {<only value}, Business_value: {<only value}\")\n",
        "\n",
        "# Define the main DSPy workflow\n",
        "class TaskImputationWorkflow(dspy.Module):\n",
        "    def __init__(self, agents):\n",
        "        # Initialize agents for each imputation task\n",
        "        self.agents = {a.__pydantic_core_schema__['schema']['model_name']: dspy.ChainOfThought(a) for a in agents}\n",
        "        self.combine_agent = dspy.ChainOfThought(CombineAgent)\n",
        "\n",
        "    def forward(self, dataset, context, example_data):\n",
        "        output_dict = {}\n",
        "\n",
        "        # Iterate through each agent and fill missing values\n",
        "        for name, agent in self.agents.items():\n",
        "            result = agent(dataset=dataset.to_string(), context=context[name], example_data = example_data.to_string())\n",
        "            output_dict[name] = result.result\n",
        "\n",
        "        # Combine agent outputs\n",
        "        combined_result = self.combine_agent(\n",
        "            story_points_result=output_dict['StoryPointsAgent'],\n",
        "            effort_result=output_dict['EffortAgent'],\n",
        "            priority_result=output_dict['PriorityAgent'],\n",
        "            business_value_result=output_dict['BusinessValueAgent']\n",
        "        )\n",
        "\n",
        "        return combined_result.final_result, output_dict\n",
        "\n",
        "# Initialize agents for imputation workflow\n",
        "agents = [StoryPointsAgent, EffortAgent, PriorityAgent, BusinessValueAgent]\n",
        "task_imputation_workflow = TaskImputationWorkflow(agents)\n",
        "\n",
        "# Define context with domain-specific logic\n",
        "context_data = {\n",
        "    \"StoryPointsAgent\": \"Use 'State', 'Feature Title', and 'User Story Title' to estimate the complexity and duration for assigning story points.\",\n",
        "    \"EffortAgent\": \"Estimate Level of Effort based on task descriptions and complexity indicated by 'Feature Title' and 'User Story Title'.\",\n",
        "    \"PriorityAgent\": \"Assign Priority based on urgency and importance inferred from 'State' and task descriptions.\",\n",
        "    \"BusinessValueAgent\": \"Calculate Business Value based on the strategic impact and alignment with project goals.\"\n",
        "}\n",
        "\n",
        "# Process each row in the dataset\n",
        "results = []\n",
        "for _, row in data.iterrows():\n",
        "    dataset = pd.DataFrame([row])  # Convert row to DataFrame for DSPy agent\n",
        "    filled_values, output_dict = task_imputation_workflow.forward(dataset, context_data, example_df)\n",
        "    results.append(filled_values)\n",
        "\n",
        "\n",
        "# # Save results to a new DataFrame and export\n",
        "# df_filled = pd.DataFrame(results, columns=df.columns)\n",
        "# df_filled.head()\n",
        "# # df_filled.to_csv('/mnt/data/ADO_FeatureUserStorylist_V2_Filled.csv', index=False)\n"
      ],
      "metadata": {
        "colab": {
          "base_uri": "https://localhost:8080/"
        },
        "id": "cd7wewWQng97",
        "outputId": "eeba4a25-ff0f-4744-b098-1d2f811491cf"
      },
      "execution_count": null,
      "outputs": [
        {
          "output_type": "stream",
          "name": "stderr",
          "text": [
            "WARNING:root:\t*** In DSPy 2.5, all LM clients except `dspy.LM` are deprecated, underperform, and are about to be deleted. ***\n",
            " \t\tYou are using the client GPT3, which will be removed in DSPy 2.6.\n",
            " \t\tChanging the client is straightforward and will let you use new features (Adapters) that improve the consistency of LM outputs, especially when using chat LMs. \n",
            "\n",
            " \t\tLearn more about the changes and how to migrate at\n",
            " \t\thttps://github.com/stanfordnlp/dspy/blob/main/examples/migration.ipynb\n"
          ]
        }
      ]
    },
    {
      "cell_type": "code",
      "source": [
        "for item in results:\n",
        "  print(item)"
      ],
      "metadata": {
        "id": "ykp1JmEqXd7m"
      },
      "execution_count": null,
      "outputs": []
    },
    {
      "cell_type": "code",
      "source": [
        "import random"
      ],
      "metadata": {
        "id": "8p4b6CyXhZcv"
      },
      "execution_count": null,
      "outputs": []
    },
    {
      "cell_type": "code",
      "source": [
        "output = []\n",
        "for item in results:\n",
        "  new = item.split(\",\")\n",
        "  if len(new) !=4:\n",
        "    random_list = str('Priority: '+ str(random.choice([0, 1])))\n",
        "    new = list(new[:2]) + [random_list] + list(new[-1:])\n",
        "  new_value = []\n",
        "  for j in range(len(new)):\n",
        "    try:\n",
        "      value = new[j].split(\": \")[1]\n",
        "      new_value.append(value)\n",
        "    except IndexError:\n",
        "      new_value.append(None)\n",
        "  output.append(new_value)"
      ],
      "metadata": {
        "id": "MddrKMS3KTsS"
      },
      "execution_count": null,
      "outputs": []
    },
    {
      "cell_type": "code",
      "source": [
        "data[['Story Points (0 - 99)', 'Level of Effort', 'Priority (0 - 4)', 'Business Value (0 - 999)']] = pd.DataFrame(output)\n",
        "data.head()"
      ],
      "metadata": {
        "id": "jqJjVu2_g25O"
      },
      "execution_count": null,
      "outputs": []
    },
    {
      "cell_type": "code",
      "source": [
        "data.to_csv('/content/ADO_FeatureUserStorylist_V2_Filled.csv', index=False)"
      ],
      "metadata": {
        "id": "LtyV3P9XgG2F"
      },
      "execution_count": null,
      "outputs": []
    },
    {
      "cell_type": "code",
      "source": [],
      "metadata": {
        "id": "hKk7HDWLfT-h"
      },
      "execution_count": null,
      "outputs": []
    }
  ]
}